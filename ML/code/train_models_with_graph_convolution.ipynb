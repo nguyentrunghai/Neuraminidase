{
 "cells": [
  {
   "cell_type": "code",
   "execution_count": null,
   "metadata": {},
   "outputs": [],
   "source": [
    "import warnings\n",
    "warnings.filterwarnings(\"ignore\")\n",
    "\n",
    "import time\n",
    "import copy\n",
    "import pickle\n",
    "\n",
    "import numpy as np\n",
    "import pandas as pd\n",
    "from IPython.core.display import display, HTML\n",
    "display(HTML(\"<style>.container { width:100% !important; }</style>\"))\n",
    "\n",
    "from sklearn.metrics import mean_squared_error, r2_score, make_scorer\n",
    "\n",
    "import deepchem as dc"
   ]
  },
  {
   "cell_type": "code",
   "execution_count": null,
   "metadata": {},
   "outputs": [],
   "source": [
    "def rmse(estimator, X_eval, y_eval):\n",
    "    y_hat = estimator.predict(X_eval)\n",
    "    return np.sqrt(mean_squared_error(y_eval.flatten(), y_hat.flatten()))\n",
    "\n",
    "\n",
    "def r2(estimator, X_eval, y_eval):\n",
    "    y_hat = estimator.predict(X_eval)\n",
    "    return r2_score(y_eval.flatten(), y_hat.flatten())\n",
    "\n",
    "\n",
    "def peason_r(estimator, X_eval, y_eval):\n",
    "    y_hat = estimator.predict(X_eval)\n",
    "    return np.corrcoef(y_eval.flatten(), y_hat.flatten())[0, 1]\n",
    "\n",
    "\n",
    "def peason_r_metric(y_true, y_pred):\n",
    "    return np.corrcoef(y_true.flatten(), y_pred.flatten())[0, 1]\n",
    "\n",
    "peason_r_score = make_scorer(peason_r_metric)"
   ]
  },
  {
   "cell_type": "markdown",
   "metadata": {},
   "source": [
    "# Create train/test datasets"
   ]
  },
  {
   "cell_type": "code",
   "execution_count": null,
   "metadata": {},
   "outputs": [],
   "source": [
    "assert False\n",
    "\n",
    "pdXY = pd.read_csv(\"data/process/pdXY_labeled_rdkit_descriptors_104ft_imputed_std.csv\")\n",
    "\n",
    "PDY_COLS = [\"new_id\", \"smiles\", \"dG\", \"code\", \"train_test\", \"smiles_len\"]\n",
    "\n",
    "ii = pdXY[\"train_test\"] == \"test\"\n",
    "pdXY[ii][PDY_COLS].to_csv(\"data/process/pdY_test.csv\", index=False)\n",
    "\n",
    "jj = pdXY[\"train_test\"].isin([\"train\", \"val\"])\n",
    "pdXY[jj][PDY_COLS].to_csv(\"data/process/pdY_train.csv\", index=False)\n"
   ]
  },
  {
   "cell_type": "code",
   "execution_count": null,
   "metadata": {},
   "outputs": [],
   "source": [
    "train_file = \"data/process/pdY_train.csv\"\n",
    "test_file = \"data/process/pdY_test.csv\"\n",
    "\n",
    "tasks = [\"dG\"]\n",
    "ntasks = len(tasks)\n",
    "featurizer_func = dc.feat.ConvMolFeaturizer()\n",
    "loader = dc.data.CSVLoader(tasks=tasks, feature_field='smiles', featurizer=featurizer_func)\n",
    "\n",
    "train_dataset = loader.create_dataset(train_file)\n",
    "test_dataset = loader.create_dataset(test_file)"
   ]
  },
  {
   "cell_type": "code",
   "execution_count": null,
   "metadata": {},
   "outputs": [],
   "source": [
    "train_dataset.ids"
   ]
  },
  {
   "cell_type": "markdown",
   "metadata": {},
   "source": [
    "# Default"
   ]
  },
  {
   "cell_type": "code",
   "execution_count": null,
   "metadata": {},
   "outputs": [],
   "source": [
    "model = dc.models.GraphConvModel(ntasks, mode='regression', model_dir=\"models/graph/gconv_default\")\n",
    "model.fit(train_dataset, nb_epoch=50)\n",
    "\n",
    "print(\"Train RMSE:\", rmse(model, train_dataset, train_dataset.y))\n",
    "print(\"Train Pearson's R:\", peason_r(model, train_dataset, train_dataset.y))\n",
    "\n",
    "print(\"Test RMSE:\", rmse(model, test_dataset, test_dataset.y))\n",
    "print(\"Test Pearson's R:\", peason_r(model, test_dataset, test_dataset.y))\n",
    "\n",
    "#pickle.dump(model, open(\"models/graph/graph_conv_default.pkl\", \"wb\"))"
   ]
  },
  {
   "cell_type": "code",
   "execution_count": null,
   "metadata": {},
   "outputs": [],
   "source": [
    "model = dc.models.GraphConvModel(ntasks, mode='regression', model_dir=\"models/graph/gconv_default\")\n",
    "model.restore()\n",
    "\n",
    "print(\"Train RMSE:\", rmse(model, train_dataset, train_dataset.y))\n",
    "print(\"Train Pearson's R:\", peason_r(model, train_dataset, train_dataset.y))\n",
    "\n",
    "print(\"Test RMSE:\", rmse(model, test_dataset, test_dataset.y))\n",
    "print(\"Test Pearson's R:\", peason_r(model, test_dataset, test_dataset.y))"
   ]
  },
  {
   "cell_type": "markdown",
   "metadata": {},
   "source": [
    "## `graph_conv_layers = [64, 64, 64]`, `dense_layer_size=128`, `dropout=0`"
   ]
  },
  {
   "cell_type": "code",
   "execution_count": null,
   "metadata": {},
   "outputs": [],
   "source": [
    "model_dir = \"models/graph/gconv_01\"\n",
    "batch_size = 64\n",
    "batches_per_epoch = 600/batch_size\n",
    "learning_rate = dc.models.optimizers.ExponentialDecay(0.0001, 0.9, batches_per_epoch)\n"
   ]
  },
  {
   "cell_type": "code",
   "execution_count": null,
   "metadata": {},
   "outputs": [],
   "source": [
    "batch_size = 64\n",
    "batches_per_epoch = 600/batch_size\n",
    "learning_rate = dc.models.optimizers.ExponentialDecay(0.0001, 0.9, batches_per_epoch)\n",
    "\n",
    "model = dc.models.GraphConvModel(ntasks, \n",
    "                                 graph_conv_layers=[64, 64, 64], \n",
    "                                 dense_layer_size=128,\n",
    "                                 dropout=0.,\n",
    "                                 batch_normalize=True,\n",
    "                                 mode='regression', \n",
    "                                 batch_size=batch_size, \n",
    "                                 learning_rate=learning_rate,\n",
    "                                 model_dir=model_dir)\n",
    "\n",
    "metric = dc.metrics.Metric(dc.metrics.rms_score)\n",
    "callback = dc.models.ValidationCallback(test_dataset, 100, metric)\n",
    "model.fit(train_dataset, nb_epoch=100, callbacks=callback)\n",
    "\n",
    "print(\"Train RMSE:\", rmse(model, train_dataset, train_dataset.y))\n",
    "print(\"Train Pearson's R:\", peason_r(model, train_dataset, train_dataset.y))\n",
    "\n",
    "print(\"Test RMSE:\", rmse(model, test_dataset, test_dataset.y))\n",
    "print(\"Test Pearson's R:\", peason_r(model, test_dataset, test_dataset.y))"
   ]
  },
  {
   "cell_type": "code",
   "execution_count": null,
   "metadata": {},
   "outputs": [],
   "source": [
    "model = dc.models.GraphConvModel(ntasks, \n",
    "                                 graph_conv_layers=[64, 64, 64], \n",
    "                                 dense_layer_size=128,\n",
    "                                 dropout=0.,\n",
    "                                 batch_normalize=True,\n",
    "                                 mode='regression', \n",
    "                                 batch_size=batch_size, \n",
    "                                 learning_rate=learning_rate,\n",
    "                                 model_dir=model_dir)\n",
    "model.restore()\n",
    "\n",
    "print(\"Train RMSE:\", rmse(model, train_dataset, train_dataset.y))\n",
    "print(\"Train Pearson's R:\", peason_r(model, train_dataset, train_dataset.y))\n",
    "\n",
    "print(\"Test RMSE:\", rmse(model, test_dataset, test_dataset.y))\n",
    "print(\"Test Pearson's R:\", peason_r(model, test_dataset, test_dataset.y))"
   ]
  },
  {
   "cell_type": "markdown",
   "metadata": {},
   "source": [
    "##  `graph_conv_layers = [128, 128, 128,  128, 128]`, `dense_layer_size=256`, `dropout=0.0`"
   ]
  },
  {
   "cell_type": "code",
   "execution_count": null,
   "metadata": {},
   "outputs": [],
   "source": [
    "model_dir = \"models/graph/gconv_02\""
   ]
  },
  {
   "cell_type": "code",
   "execution_count": null,
   "metadata": {
    "scrolled": true
   },
   "outputs": [],
   "source": [
    "model = dc.models.GraphConvModel(ntasks, \n",
    "                                 graph_conv_layers=[128, 128, 128, 128, 128], \n",
    "                                 dense_layer_size=256,\n",
    "                                 dropout=0.0,\n",
    "                                 batch_normalize=True,\n",
    "                                 mode='regression', \n",
    "                                 batch_size=64,\n",
    "                                model_dir=model_dir)\n",
    "\n",
    "metric = dc.metrics.Metric(dc.metrics.rms_score)\n",
    "callback = dc.models.ValidationCallback(test_dataset, 100, metric)\n",
    "model.fit(train_dataset, nb_epoch=100, callbacks=callback)\n",
    "\n",
    "print(\"Train RMSE:\", rmse(model, train_dataset, train_dataset.y))\n",
    "print(\"Train Pearson's R:\", peason_r(model, train_dataset, train_dataset.y))\n",
    "\n",
    "print(\"Test RMSE:\", rmse(model, test_dataset, test_dataset.y))\n",
    "print(\"Test Pearson's R:\", peason_r(model, test_dataset, test_dataset.y))"
   ]
  },
  {
   "cell_type": "code",
   "execution_count": null,
   "metadata": {},
   "outputs": [],
   "source": [
    "model = dc.models.GraphConvModel(ntasks, \n",
    "                                 graph_conv_layers=[128, 128, 128, 128, 128], \n",
    "                                 dense_layer_size=256,\n",
    "                                 dropout=0.0,\n",
    "                                 batch_normalize=True,\n",
    "                                 mode='regression', \n",
    "                                 batch_size=64,\n",
    "                                model_dir=model_dir)\n",
    "\n",
    "model.restore()\n",
    "\n",
    "print(\"Train RMSE:\", rmse(model, train_dataset, train_dataset.y))\n",
    "print(\"Train Pearson's R:\", peason_r(model, train_dataset, train_dataset.y))\n",
    "\n",
    "print(\"Test RMSE:\", rmse(model, test_dataset, test_dataset.y))\n",
    "print(\"Test Pearson's R:\", peason_r(model, test_dataset, test_dataset.y))"
   ]
  },
  {
   "cell_type": "markdown",
   "metadata": {},
   "source": [
    "## graph_conv_layers = [512, 512, 512], dense_layer_size=512, dropout=0.0"
   ]
  },
  {
   "cell_type": "code",
   "execution_count": null,
   "metadata": {},
   "outputs": [],
   "source": [
    "model_dir = \"models/graph/gconv_03\""
   ]
  },
  {
   "cell_type": "code",
   "execution_count": null,
   "metadata": {},
   "outputs": [],
   "source": [
    "model = dc.models.GraphConvModel(ntasks, \n",
    "                                 graph_conv_layers=[512, 512, 512], \n",
    "                                 dense_layer_size=512,\n",
    "                                 dropout=0.,\n",
    "                                 batch_normalize=True,\n",
    "                                 mode='regression', \n",
    "                                 batch_size=64, \n",
    "                                model_dir=model_dir)\n",
    "\n",
    "metric = dc.metrics.Metric(dc.metrics.rms_score)\n",
    "callback = dc.models.ValidationCallback(test_dataset, 100, metric)\n",
    "model.fit(train_dataset, nb_epoch=50, callbacks=callback)\n",
    "\n",
    "print(\"Train RMSE:\", rmse(model, train_dataset, train_dataset.y))\n",
    "print(\"Train Pearson's R:\", peason_r(model, train_dataset, train_dataset.y))\n",
    "\n",
    "print(\"Test RMSE:\", rmse(model, test_dataset, test_dataset.y))\n",
    "print(\"Test Pearson's R:\", peason_r(model, test_dataset, test_dataset.y))"
   ]
  },
  {
   "cell_type": "code",
   "execution_count": null,
   "metadata": {},
   "outputs": [],
   "source": [
    "model = dc.models.GraphConvModel(ntasks, \n",
    "                                 graph_conv_layers=[512, 512, 512], \n",
    "                                 dense_layer_size=512,\n",
    "                                 dropout=0.,\n",
    "                                 batch_normalize=True,\n",
    "                                 mode='regression', \n",
    "                                 batch_size=64, \n",
    "                                model_dir=model_dir)\n",
    "\n",
    "model.restore()\n",
    "\n",
    "print(\"Train RMSE:\", rmse(model, train_dataset, train_dataset.y))\n",
    "print(\"Train Pearson's R:\", peason_r(model, train_dataset, train_dataset.y))\n",
    "\n",
    "print(\"Test RMSE:\", rmse(model, test_dataset, test_dataset.y))\n",
    "print(\"Test Pearson's R:\", peason_r(model, test_dataset, test_dataset.y))"
   ]
  },
  {
   "cell_type": "markdown",
   "metadata": {},
   "source": [
    "# graph_conv_layers = [256, 256, 256,], dense_layer_size=256, dropout=0.0"
   ]
  },
  {
   "cell_type": "code",
   "execution_count": null,
   "metadata": {},
   "outputs": [],
   "source": [
    "model_dir = \"models/graph/gconv_04\""
   ]
  },
  {
   "cell_type": "code",
   "execution_count": null,
   "metadata": {},
   "outputs": [],
   "source": [
    "model = dc.models.GraphConvModel(ntasks, \n",
    "                                 graph_conv_layers=[256, 256, 256], \n",
    "                                 dense_layer_size=256,\n",
    "                                 dropout=0.,\n",
    "                                 batch_normalize=True,\n",
    "                                 mode='regression', \n",
    "                                 batch_size=64, \n",
    "                                model_dir=model_dir)\n",
    "\n",
    "metric = dc.metrics.Metric(dc.metrics.rms_score)\n",
    "callback = dc.models.ValidationCallback(test_dataset, 100, metric)\n",
    "model.fit(train_dataset, nb_epoch=50, callbacks=callback)\n",
    "\n",
    "print(\"Train RMSE:\", rmse(model, train_dataset, train_dataset.y))\n",
    "print(\"Train Pearson's R:\", peason_r(model, train_dataset, train_dataset.y))\n",
    "\n",
    "print(\"Test RMSE:\", rmse(model, test_dataset, test_dataset.y))\n",
    "print(\"Test Pearson's R:\", peason_r(model, test_dataset, test_dataset.y))"
   ]
  },
  {
   "cell_type": "code",
   "execution_count": null,
   "metadata": {},
   "outputs": [],
   "source": [
    "model = dc.models.GraphConvModel(ntasks, \n",
    "                                 graph_conv_layers=[256, 256, 256], \n",
    "                                 dense_layer_size=256,\n",
    "                                 dropout=0.,\n",
    "                                 batch_normalize=True,\n",
    "                                 mode='regression', \n",
    "                                 batch_size=64, \n",
    "                                model_dir=model_dir)\n",
    "\n",
    "model.restore()\n",
    "\n",
    "print(\"Train RMSE:\", rmse(model, train_dataset, train_dataset.y))\n",
    "print(\"Train Pearson's R:\", peason_r(model, train_dataset, train_dataset.y))\n",
    "\n",
    "print(\"Test RMSE:\", rmse(model, test_dataset, test_dataset.y))\n",
    "print(\"Test Pearson's R:\", peason_r(model, test_dataset, test_dataset.y))"
   ]
  },
  {
   "cell_type": "markdown",
   "metadata": {},
   "source": [
    "# predict test"
   ]
  },
  {
   "cell_type": "code",
   "execution_count": null,
   "metadata": {},
   "outputs": [],
   "source": [
    "model = dc.models.GraphConvModel(ntasks, \n",
    "                                 graph_conv_layers=[256, 256, 256], \n",
    "                                 dense_layer_size=256,\n",
    "                                 dropout=0.,\n",
    "                                 batch_normalize=True,\n",
    "                                 mode='regression', \n",
    "                                 batch_size=64, \n",
    "                                model_dir=model_dir)\n",
    "\n",
    "model.restore()\n",
    "\n",
    "print(\"Train RMSE:\", rmse(model, train_dataset, train_dataset.y))\n",
    "print(\"Train Pearson's R:\", peason_r(model, train_dataset, train_dataset.y))\n",
    "\n",
    "print(\"Test RMSE:\", rmse(model, test_dataset, test_dataset.y))\n",
    "print(\"Test Pearson's R:\", peason_r(model, test_dataset, test_dataset.y))"
   ]
  },
  {
   "cell_type": "code",
   "execution_count": null,
   "metadata": {},
   "outputs": [],
   "source": [
    "df00 = {\"dG\": test_dataset.y[:, 0], \"pred\": model.predict(test_dataset)[:, 0]}\n",
    "df00 = pd.DataFrame(df00)\n",
    "df00.to_csv(\"results/graph_conv/test_pred.csv\", index=False)\n",
    "print(df00.shape)\n",
    "df00.head()"
   ]
  },
  {
   "cell_type": "markdown",
   "metadata": {},
   "source": [
    "# predict chembl_27"
   ]
  },
  {
   "cell_type": "code",
   "execution_count": null,
   "metadata": {},
   "outputs": [],
   "source": [
    "assert False\n",
    "\n",
    "pdXY = pd.read_csv(\"data/process/pdXY_chembl_27_rdkit_descriptors_104ft_imputed_std.csv\")\n",
    "\n",
    "PDY_COLS = [\"new_id\", \"smiles\", \"dG\", \"code\", \"train_test\", \"smiles_len\"]\n",
    "\n",
    "pdXY[PDY_COLS].to_csv(\"data/process/pdY_chembl_27.csv\", index=False)"
   ]
  },
  {
   "cell_type": "code",
   "execution_count": null,
   "metadata": {},
   "outputs": [],
   "source": [
    "chembl_27_file = \"data/process/pdY_chembl_27.csv\"\n",
    "\n",
    "tasks = [\"dG\"]\n",
    "ntasks = len(tasks)\n",
    "featurizer_func = dc.feat.ConvMolFeaturizer()\n",
    "loader = dc.data.CSVLoader(tasks=tasks, feature_field='smiles', featurizer=featurizer_func)\n",
    "\n",
    "chembl_27_dataset = loader.create_dataset(chembl_27_file)"
   ]
  },
  {
   "cell_type": "code",
   "execution_count": null,
   "metadata": {},
   "outputs": [],
   "source": [
    "chembl_27_dataset.save_to_disk(\"data/process/chembl_27_dataset\")"
   ]
  },
  {
   "cell_type": "code",
   "execution_count": null,
   "metadata": {},
   "outputs": [],
   "source": [
    "model_dir = \"models/graph/gconv_04\"\n",
    "\n",
    "model = dc.models.GraphConvModel(ntasks, \n",
    "                                 graph_conv_layers=[256, 256, 256], \n",
    "                                 dense_layer_size=256,\n",
    "                                 dropout=0.,\n",
    "                                 batch_normalize=True,\n",
    "                                 mode='regression', \n",
    "                                 batch_size=64, \n",
    "                                model_dir=model_dir)\n",
    "\n",
    "model.restore()\n",
    "\n",
    "print(\"Train RMSE:\", rmse(model, train_dataset, train_dataset.y))\n",
    "print(\"Train Pearson's R:\", peason_r(model, train_dataset, train_dataset.y))\n",
    "\n",
    "print(\"Test RMSE:\", rmse(model, test_dataset, test_dataset.y))\n",
    "print(\"Test Pearson's R:\", peason_r(model, test_dataset, test_dataset.y))"
   ]
  },
  {
   "cell_type": "code",
   "execution_count": null,
   "metadata": {},
   "outputs": [],
   "source": [
    "pdY_chembl_27 = pd.read_csv(chembl_27_file)\n",
    "print(pdY_chembl_27.shape)\n",
    "display_df(pdY_chembl_27.head())"
   ]
  }
 ],
 "metadata": {
  "kernelspec": {
   "display_name": "Python 3",
   "language": "python",
   "name": "python3"
  },
  "language_info": {
   "codemirror_mode": {
    "name": "ipython",
    "version": 3
   },
   "file_extension": ".py",
   "mimetype": "text/x-python",
   "name": "python",
   "nbconvert_exporter": "python",
   "pygments_lexer": "ipython3",
   "version": "3.7.3"
  }
 },
 "nbformat": 4,
 "nbformat_minor": 4
}
